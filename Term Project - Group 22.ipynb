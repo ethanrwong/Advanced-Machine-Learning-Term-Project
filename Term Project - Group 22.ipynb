{
 "cells": [
  {
   "cell_type": "markdown",
   "id": "b1b9d5b9-70b2-4815-834b-3dc0732824b8",
   "metadata": {},
   "source": [
    "# Install and Load Libraries"
   ]
  },
  {
   "cell_type": "code",
   "execution_count": 1,
   "id": "999cc721-bac8-4e72-8780-e60625fd12fb",
   "metadata": {},
   "outputs": [],
   "source": [
    "import pandas as pd\n",
    "import os\n",
    "import pyarrow.parquet as pq\n",
    "from glob import glob"
   ]
  },
  {
   "cell_type": "markdown",
   "id": "ba182f43-4753-429a-8c95-6a3746fc5708",
   "metadata": {},
   "source": [
    "# Joining CSV and Parquet Files"
   ]
  },
  {
   "cell_type": "code",
   "execution_count": 12,
   "id": "911f180f-cbfa-49b9-ba36-bad6fafb3977",
   "metadata": {
    "scrolled": true
   },
   "outputs": [],
   "source": [
    "# Paths to data folders\n",
    "train_csv_path = './data/train.csv'\n",
    "test_csv_path = './data/test.csv'\n",
    "series_train_path = './data/series_train.parquet'\n",
    "series_test_path = './data/series_test.parquet'\n",
    "\n",
    "# Load the CSV files\n",
    "train_df = pd.read_csv(train_csv_path)\n",
    "test_df = pd.read_csv(test_csv_path)\n",
    "\n",
    "# Aggregation function for actigraphy data\n",
    "def aggregate_actigraphy_data(series_path):\n",
    "    participant_data = []\n",
    "\n",
    "    for participant_folder in glob(os.path.join(series_path, 'id=*')):\n",
    "        participant_id = os.path.basename(participant_folder).split('=')[1]\n",
    "        parquet_file_path = os.path.join(participant_folder, 'part-0.parquet')\n",
    "        \n",
    "        if os.path.isfile(parquet_file_path):\n",
    "            # Load the parquet file\n",
    "            df = pq.read_table(parquet_file_path).to_pandas()\n",
    "            \n",
    "            # Aggregate metrics for each column\n",
    "            agg_data = {\n",
    "                'id': participant_id,\n",
    "                \n",
    "                # X, Y, Z columns: mean, std, min, max\n",
    "                'mean_x': df['X'].mean(),\n",
    "                'std_x': df['X'].std(),\n",
    "                'min_x': df['X'].min(),\n",
    "                'max_x': df['X'].max(),\n",
    "                \n",
    "                'mean_y': df['Y'].mean(),\n",
    "                'std_y': df['Y'].std(),\n",
    "                'min_y': df['Y'].min(),\n",
    "                'max_y': df['Y'].max(),\n",
    "                \n",
    "                'mean_z': df['Z'].mean(),\n",
    "                'std_z': df['Z'].std(),\n",
    "                'min_z': df['Z'].min(),\n",
    "                'max_z': df['Z'].max(),\n",
    "                \n",
    "                # ENMO and Angle-Z columns: mean, std, min, max\n",
    "                'mean_enmo': df['enmo'].mean(),\n",
    "                'std_enmo': df['enmo'].std(),\n",
    "                'min_enmo': df['enmo'].min(),\n",
    "                'max_enmo': df['enmo'].max(),\n",
    "                \n",
    "                'mean_anglez': df['anglez'].mean(),\n",
    "                'std_anglez': df['anglez'].std(),\n",
    "                'min_anglez': df['anglez'].min(),\n",
    "                'max_anglez': df['anglez'].max(),\n",
    "                \n",
    "                # Non-wear flag: ratio of non-wear time\n",
    "                'non_wear_ratio': df['non-wear_flag'].mean(),\n",
    "                \n",
    "                # Light and Battery Voltage columns: mean, std, min, max\n",
    "                'mean_light': df['light'].mean(),\n",
    "                'std_light': df['light'].std(),\n",
    "                'min_light': df['light'].min(),\n",
    "                'max_light': df['light'].max(),\n",
    "                \n",
    "                'mean_battery_voltage': df['battery_voltage'].mean(),\n",
    "                'std_battery_voltage': df['battery_voltage'].std(),\n",
    "                'min_battery_voltage': df['battery_voltage'].min(),\n",
    "                'max_battery_voltage': df['battery_voltage'].max(),\n",
    "                \n",
    "                # Time of Day, Weekday, Quarter: mode (most frequent)\n",
    "                'mode_time_of_day': df['time_of_day'].mode()[0] if not df['time_of_day'].mode().empty else None,\n",
    "                'mode_weekday': df['weekday'].mode()[0] if not df['weekday'].mode().empty else None,\n",
    "                'mode_quarter': df['quarter'].mode()[0] if not df['quarter'].mode().empty else None,\n",
    "                \n",
    "                # Relative date to PCIAT: mean, min, max\n",
    "                'mean_relative_date_PCIAT': df['relative_date_PCIAT'].mean(),\n",
    "                'min_relative_date_PCIAT': df['relative_date_PCIAT'].min(),\n",
    "                'max_relative_date_PCIAT': df['relative_date_PCIAT'].max()\n",
    "            }\n",
    "            \n",
    "            # Append the aggregated data for this participant\n",
    "            participant_data.append(agg_data)\n",
    "    \n",
    "    # Convert list of dicts to DataFrame\n",
    "    return pd.DataFrame(participant_data)\n",
    "\n",
    "# Aggregate actigraphy data for train and test sets\n",
    "aggregated_train_actigraphy = aggregate_actigraphy_data(series_train_path)\n",
    "aggregated_test_actigraphy = aggregate_actigraphy_data(series_test_path)\n",
    "\n",
    "# Merge aggregated actigraphy data with CSV data\n",
    "merged_train_df = pd.merge(train_df, aggregated_train_actigraphy, on='id', how='left')\n",
    "merged_test_df = pd.merge(test_df, aggregated_test_actigraphy, on='id', how='left')\n",
    "\n",
    "# Export to CSV\n",
    "#merged_train_df.to_csv('./data/merged_train.csv',index=False)\n",
    "#merged_test_df.to_csv('./data/merged_test.csv',index=False)"
   ]
  },
  {
   "cell_type": "code",
   "execution_count": null,
   "id": "76ee9c74-1b30-45f7-8ed8-79eed6061dd2",
   "metadata": {},
   "outputs": [],
   "source": [
    "# Read in merged data\n",
    "merged_train_df = pd.read_csv('./data/merged_train.csv')\n",
    "merged_test_df = pd.read_csv('./data/merged_test.csv')"
   ]
  }
 ],
 "metadata": {
  "kernelspec": {
   "display_name": "Python 3 (ipykernel)",
   "language": "python",
   "name": "python3"
  },
  "language_info": {
   "codemirror_mode": {
    "name": "ipython",
    "version": 3
   },
   "file_extension": ".py",
   "mimetype": "text/x-python",
   "name": "python",
   "nbconvert_exporter": "python",
   "pygments_lexer": "ipython3",
   "version": "3.12.4"
  }
 },
 "nbformat": 4,
 "nbformat_minor": 5
}
