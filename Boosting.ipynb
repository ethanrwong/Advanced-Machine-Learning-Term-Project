{
 "cells": [
  {
   "cell_type": "markdown",
   "metadata": {},
   "source": [
    "# Load Libraries and Data"
   ]
  },
  {
   "cell_type": "code",
   "execution_count": 54,
   "metadata": {},
   "outputs": [],
   "source": [
    "#!pip install xgboost\n",
    "#!pip install lightgbm\n",
    "#!pip install catboost"
   ]
  },
  {
   "cell_type": "code",
   "execution_count": 55,
   "metadata": {},
   "outputs": [],
   "source": [
    "import random\n",
    "import numpy as np\n",
    "import pandas as pd\n",
    "from sklearn.model_selection import GridSearchCV, train_test_split, StratifiedKFold\n",
    "from sklearn.preprocessing import StandardScaler, OneHotEncoder\n",
    "from sklearn.compose import ColumnTransformer\n",
    "from sklearn.pipeline import Pipeline\n",
    "from sklearn.metrics import (\n",
    "    accuracy_score, classification_report, confusion_matrix, ConfusionMatrixDisplay,\n",
    "    cohen_kappa_score, make_scorer\n",
    ")\n",
    "import matplotlib.pyplot as plt\n",
    "import joblib\n",
    "from sklearn.utils.class_weight import compute_class_weight\n",
    "from sklearn.impute import SimpleImputer\n",
    "\n",
    "# Importing Gradient Boosting Models\n",
    "from lightgbm import LGBMClassifier\n",
    "from xgboost import XGBClassifier\n",
    "from catboost import CatBoostClassifier #type: ignore\n",
    "from sklearn.ensemble import VotingClassifier\n",
    "\n",
    "import warnings  # Import warnings module\n",
    "\n",
    "# Suppress all warnings\n",
    "warnings.filterwarnings('ignore')\n",
    "\n",
    "def set_seed(seed=42):\n",
    "    np.random.seed(seed)\n",
    "    random.seed(seed)\n",
    "\n",
    "set_seed(42)"
   ]
  },
  {
   "cell_type": "code",
   "execution_count": 56,
   "metadata": {},
   "outputs": [],
   "source": [
    "# Paths to data files\n",
    "train_csv_path = './data/merged_train.csv'\n",
    "test_csv_path = './data/merged_test.csv'\n",
    "\n",
    "# Load the CSV files\n",
    "train_df = pd.read_csv(train_csv_path)\n",
    "test_df = pd.read_csv(test_csv_path)"
   ]
  },
  {
   "cell_type": "markdown",
   "metadata": {},
   "source": [
    "# Data Preprocessing"
   ]
  },
  {
   "cell_type": "code",
   "execution_count": 57,
   "metadata": {},
   "outputs": [],
   "source": [
    "# Ensure 'sii' is not in the features\n",
    "X = train_df.drop(columns=['id', 'sii'])\n",
    "y = train_df['sii'].astype(np.int64)\n",
    "\n",
    "X_test = test_df.drop(columns=['id'])"
   ]
  },
  {
   "cell_type": "code",
   "execution_count": null,
   "metadata": {},
   "outputs": [],
   "source": [
    "# Identify categorical and numerical columns\n",
    "categorical_cols = X.select_dtypes(include=['object', 'category']).columns.tolist()\n",
    "numerical_cols = X.select_dtypes(include=[np.number]).columns.tolist()\n",
    "\n",
    "# Update numerical pipeline with imputer\n",
    "numerical_pipeline = Pipeline(steps=[\n",
    "    ('imputer', SimpleImputer(strategy='median')),\n",
    "    ('scaler', StandardScaler())\n",
    "])\n",
    "\n",
    "# Update categorical pipeline with imputer\n",
    "categorical_pipeline = Pipeline(steps=[\n",
    "    ('imputer', SimpleImputer(strategy='most_frequent'))#,\n",
    "    #('onehot', OneHotEncoder(handle_unknown='ignore'))\n",
    "])\n",
    "\n",
    "# Combine preprocessing pipelines\n",
    "preprocessor = ColumnTransformer(transformers=[\n",
    "    ('num', numerical_pipeline, numerical_cols),\n",
    "    ('cat', categorical_pipeline, categorical_cols)\n",
    "])"
   ]
  },
  {
   "cell_type": "code",
   "execution_count": 59,
   "metadata": {},
   "outputs": [],
   "source": [
    "# Split the data\n",
    "X_train, X_val, y_train, y_val = train_test_split(\n",
    "    X,\n",
    "    y,\n",
    "    test_size=0.2,\n",
    "    random_state=42,\n",
    "    stratify=y\n",
    ")"
   ]
  },
  {
   "cell_type": "markdown",
   "metadata": {},
   "source": [
    "# Fitting Boosting Models"
   ]
  },
  {
   "cell_type": "code",
   "execution_count": 60,
   "metadata": {},
   "outputs": [],
   "source": [
    "# Compute class weights to handle class imbalance\n",
    "classes = np.unique(y_train)\n",
    "class_weights = compute_class_weight(class_weight='balanced', classes=classes, y=y_train)\n",
    "class_weights_dict = dict(zip(classes, class_weights))\n",
    "\n",
    "# Define a custom scoring function using Quadratic Weighted Kappa\n",
    "def qwk_scorer(y_true, y_pred):\n",
    "    return cohen_kappa_score(y_true, y_pred, weights='quadratic')\n",
    "\n",
    "kappa_scorer = make_scorer(qwk_scorer)"
   ]
  },
  {
   "cell_type": "code",
   "execution_count": 61,
   "metadata": {},
   "outputs": [],
   "source": [
    "# Use Stratified K-Folds Cross-Validation\n",
    "skf = StratifiedKFold(n_splits=10, shuffle=True, random_state=42)"
   ]
  },
  {
   "cell_type": "code",
   "execution_count": 62,
   "metadata": {},
   "outputs": [
    {
     "name": "stdout",
     "output_type": "stream",
     "text": [
      "\n",
      "Best Cross-Validation QWK Score (LightGBM): 0.9997\n",
      "Best Parameters (LightGBM): {'classifier__colsample_bytree': 0.8, 'classifier__learning_rate': 0.1, 'classifier__max_depth': 5, 'classifier__n_estimators': 100, 'classifier__num_leaves': 31, 'classifier__subsample': 0.8}\n",
      "\n",
      "Validation Accuracy (LightGBM): 1.0000\n",
      "\n",
      "Classification Report (LightGBM):\n",
      "              precision    recall  f1-score   support\n",
      "\n",
      "           0       1.00      1.00      1.00       563\n",
      "           1       1.00      1.00      1.00       146\n",
      "           2       1.00      1.00      1.00        76\n",
      "           3       1.00      1.00      1.00         7\n",
      "\n",
      "    accuracy                           1.00       792\n",
      "   macro avg       1.00      1.00      1.00       792\n",
      "weighted avg       1.00      1.00      1.00       792\n",
      "\n"
     ]
    },
    {
     "data": {
      "image/png": "[encoded data removed]",
      "text/plain": [
       "<Figure size 640x480 with 2 Axes>"
      ]
     },
     "metadata": {},
     "output_type": "display_data"
    },
    {
     "name": "stdout",
     "output_type": "stream",
     "text": [
      "\n",
      "Best LightGBM model has been saved successfully.\n"
     ]
    }
   ],
   "source": [
    "# Create a Pipeline that includes preprocessing and the LightGBM classifier\n",
    "lgb_pipeline = Pipeline(steps=[\n",
    "    ('preprocessor', preprocessor),\n",
    "    ('classifier', LGBMClassifier(class_weight=class_weights_dict, random_state=42, verbose=-1))\n",
    "])\n",
    "\n",
    "# Define parameter grid for LightGBM\n",
    "lgb_params = {\n",
    "    'classifier__n_estimators': [50, 100],\n",
    "    'classifier__learning_rate': [0.1],\n",
    "    'classifier__max_depth': [3, 5],\n",
    "    'classifier__num_leaves': [31],\n",
    "    'classifier__subsample': [0.8],\n",
    "    'classifier__colsample_bytree': [0.8],\n",
    "}\n",
    "\n",
    "# GridSearchCV for LightGBM\n",
    "lgb_gs = GridSearchCV(\n",
    "    estimator=lgb_pipeline,\n",
    "    param_grid=lgb_params,\n",
    "    cv=skf,\n",
    "    scoring=kappa_scorer,\n",
    "    refit=True,\n",
    "    verbose=0,\n",
    "    n_jobs=-1\n",
    ")\n",
    "\n",
    "# Fit the model on the training data\n",
    "lgb_gs.fit(X_train, y_train)\n",
    "\n",
    "# Print best cross-validation score and parameters\n",
    "print(f\"\\nBest Cross-Validation QWK Score (LightGBM): {lgb_gs.best_score_:.4f}\")\n",
    "print(f\"Best Parameters (LightGBM): {lgb_gs.best_params_}\")\n",
    "\n",
    "# Retrieve the best model pipeline\n",
    "lgb_best_pipeline = lgb_gs.best_estimator_\n",
    "\n",
    "# Predict on the validation set\n",
    "y_val_pred = lgb_best_pipeline.predict(X_val)\n",
    "\n",
    "# Calculate accuracy\n",
    "val_accuracy = accuracy_score(y_val, y_val_pred)\n",
    "print(f\"\\nValidation Accuracy (LightGBM): {val_accuracy:.4f}\")\n",
    "\n",
    "# Classification Report\n",
    "print(\"\\nClassification Report (LightGBM):\")\n",
    "print(classification_report(y_val, y_val_pred))\n",
    "\n",
    "# Confusion Matrix\n",
    "conf_mat = confusion_matrix(y_val, y_val_pred)\n",
    "disp = ConfusionMatrixDisplay(confusion_matrix=conf_mat)\n",
    "disp.plot()\n",
    "plt.title(\"Confusion Matrix (LightGBM)\")\n",
    "plt.show()\n",
    "\n",
    "# Save the best model pipeline\n",
    "joblib.dump(lgb_best_pipeline, 'best_lgb_model.pkl')\n",
    "print(\"\\nBest LightGBM model has been saved successfully.\")"
   ]
  },
  {
   "cell_type": "code",
   "execution_count": 63,
   "metadata": {},
   "outputs": [
    {
     "name": "stdout",
     "output_type": "stream",
     "text": [
      "\n",
      "Best Cross-Validation QWK Score (XGBoost): 1.0000\n",
      "Best Parameters (XGBoost): {'classifier__colsample_bytree': 0.8, 'classifier__learning_rate': 0.1, 'classifier__max_depth': 3, 'classifier__n_estimators': 50, 'classifier__subsample': 0.8}\n",
      "\n",
      "Validation Accuracy (XGBoost): 1.0000\n",
      "\n",
      "Classification Report (XGBoost):\n",
      "              precision    recall  f1-score   support\n",
      "\n",
      "           0       1.00      1.00      1.00       563\n",
      "           1       1.00      1.00      1.00       146\n",
      "           2       1.00      1.00      1.00        76\n",
      "           3       1.00      1.00      1.00         7\n",
      "\n",
      "    accuracy                           1.00       792\n",
      "   macro avg       1.00      1.00      1.00       792\n",
      "weighted avg       1.00      1.00      1.00       792\n",
      "\n"
     ]
    },
    {
     "data": {
      "image/png": "[encoded data removed]",
      "text/plain": [
       "<Figure size 640x480 with 2 Axes>"
      ]
     },
     "metadata": {},
     "output_type": "display_data"
    },
    {
     "name": "stdout",
     "output_type": "stream",
     "text": [
      "\n",
      "Best XGBoost model has been saved successfully.\n"
     ]
    }
   ],
   "source": [
    "# Create a Pipeline that includes preprocessing and the XGBoost classifier\n",
    "xgb_pipeline = Pipeline(steps=[\n",
    "    ('preprocessor', preprocessor),\n",
    "    ('classifier', XGBClassifier(random_state=42, eval_metric='mlogloss', use_label_encoder=False, verbosity=0))\n",
    "])\n",
    "\n",
    "# Define parameter grid for XGBoost\n",
    "xgb_params = {\n",
    "    'classifier__n_estimators': [50, 100],\n",
    "    'classifier__learning_rate': [0.1],\n",
    "    'classifier__max_depth': [3, 5],\n",
    "    'classifier__subsample': [0.8],\n",
    "    'classifier__colsample_bytree': [0.8],\n",
    "    # Removed 'scale_pos_weight'\n",
    "}\n",
    "\n",
    "# GridSearchCV for XGBoost\n",
    "xgb_gs = GridSearchCV(\n",
    "    estimator=xgb_pipeline,\n",
    "    param_grid=xgb_params,\n",
    "    cv=skf,\n",
    "    scoring=kappa_scorer,\n",
    "    refit=True,\n",
    "    verbose=0,\n",
    "    n_jobs=-1\n",
    ")\n",
    "\n",
    "# Fit the model on the training data\n",
    "xgb_gs.fit(X_train, y_train)\n",
    "\n",
    "# Print best cross-validation score and parameters\n",
    "print(f\"\\nBest Cross-Validation QWK Score (XGBoost): {xgb_gs.best_score_:.4f}\")\n",
    "print(f\"Best Parameters (XGBoost): {xgb_gs.best_params_}\")\n",
    "\n",
    "# Retrieve the best model pipeline\n",
    "xgb_best_pipeline = xgb_gs.best_estimator_\n",
    "\n",
    "# Predict on the validation set\n",
    "y_val_pred = xgb_best_pipeline.predict(X_val)\n",
    "\n",
    "# Calculate accuracy\n",
    "val_accuracy = accuracy_score(y_val, y_val_pred)\n",
    "print(f\"\\nValidation Accuracy (XGBoost): {val_accuracy:.4f}\")\n",
    "\n",
    "# Classification Report\n",
    "print(\"\\nClassification Report (XGBoost):\")\n",
    "print(classification_report(y_val, y_val_pred))\n",
    "\n",
    "# Confusion Matrix\n",
    "conf_mat = confusion_matrix(y_val, y_val_pred)\n",
    "disp = ConfusionMatrixDisplay(confusion_matrix=conf_mat)\n",
    "disp.plot()\n",
    "plt.title(\"Confusion Matrix (XGBoost)\")\n",
    "plt.show()\n",
    "\n",
    "# Save the best model pipeline\n",
    "joblib.dump(xgb_best_pipeline, 'best_xgb_model.pkl')\n",
    "print(\"\\nBest XGBoost model has been saved successfully.\")"
   ]
  },
  {
   "cell_type": "code",
   "execution_count": 65,
   "metadata": {},
   "outputs": [
    {
     "name": "stdout",
     "output_type": "stream",
     "text": [
      "\n",
      "Best Cross-Validation QWK Score (CatBoost): 0.9987\n",
      "Best Parameters (CatBoost): {'classifier__border_count': 64, 'classifier__depth': 3, 'classifier__iterations': 500, 'classifier__l2_leaf_reg': 3, 'classifier__learning_rate': 0.1}\n",
      "\n",
      "Validation Accuracy (CatBoost): 0.9987\n",
      "\n",
      "Classification Report (CatBoost):\n",
      "              precision    recall  f1-score   support\n",
      "\n",
      "           0       1.00      1.00      1.00       563\n",
      "           1       1.00      1.00      1.00       146\n",
      "           2       1.00      0.99      0.99        76\n",
      "           3       0.88      1.00      0.93         7\n",
      "\n",
      "    accuracy                           1.00       792\n",
      "   macro avg       0.97      1.00      0.98       792\n",
      "weighted avg       1.00      1.00      1.00       792\n",
      "\n"
     ]
    },
    {
     "data": {
      "image/png": "[encoded data removed]",
      "text/plain": [
       "<Figure size 640x480 with 2 Axes>"
      ]
     },
     "metadata": {},
     "output_type": "display_data"
    },
    {
     "name": "stdout",
     "output_type": "stream",
     "text": [
      "\n",
      "Best CatBoost model has been saved successfully.\n"
     ]
    }
   ],
   "source": [
    "# Create a Pipeline that includes preprocessing and the CatBoost classifier\n",
    "cat_pipeline = Pipeline(steps=[\n",
    "    ('preprocessor', preprocessor),\n",
    "    ('classifier', CatBoostClassifier(class_weights=class_weights.tolist(), random_state=42, verbose=0))\n",
    "])\n",
    "\n",
    "# Define parameter grid for CatBoost\n",
    "cat_params = {\n",
    "    'classifier__iterations': [500],\n",
    "    'classifier__learning_rate': [0.1],\n",
    "    'classifier__depth': [3, 5],\n",
    "    'classifier__l2_leaf_reg': [3, 5],\n",
    "    'classifier__border_count': [32, 64],\n",
    "}\n",
    "\n",
    "# GridSearchCV for CatBoost\n",
    "cat_gs = GridSearchCV(\n",
    "    estimator=cat_pipeline,\n",
    "    param_grid=cat_params,\n",
    "    cv=skf,\n",
    "    scoring=kappa_scorer,\n",
    "    refit=True,\n",
    "    verbose=0,\n",
    "    n_jobs=-1\n",
    ")\n",
    "\n",
    "# Fit the model on the training data\n",
    "cat_gs.fit(X_train, y_train)\n",
    "\n",
    "# Print best cross-validation score and parameters\n",
    "print(f\"\\nBest Cross-Validation QWK Score (CatBoost): {cat_gs.best_score_:.4f}\")\n",
    "print(f\"Best Parameters (CatBoost): {cat_gs.best_params_}\")\n",
    "\n",
    "# Retrieve the best model pipeline\n",
    "cat_best_pipeline = cat_gs.best_estimator_\n",
    "\n",
    "# Predict on the validation set\n",
    "y_val_pred = cat_best_pipeline.predict(X_val)\n",
    "\n",
    "# Calculate accuracy\n",
    "val_accuracy = accuracy_score(y_val, y_val_pred)\n",
    "print(f\"\\nValidation Accuracy (CatBoost): {val_accuracy:.4f}\")\n",
    "\n",
    "# Classification Report\n",
    "print(\"\\nClassification Report (CatBoost):\")\n",
    "print(classification_report(y_val, y_val_pred))\n",
    "\n",
    "# Confusion Matrix\n",
    "conf_mat = confusion_matrix(y_val, y_val_pred)\n",
    "disp = ConfusionMatrixDisplay(confusion_matrix=conf_mat)\n",
    "disp.plot()\n",
    "plt.title(\"Confusion Matrix (CatBoost)\")\n",
    "plt.show()\n",
    "\n",
    "# Save the best model pipeline\n",
    "joblib.dump(cat_best_pipeline, 'best_cat_model.pkl')\n",
    "print(\"\\nBest CatBoost model has been saved successfully.\")"
   ]
  },
  {
   "cell_type": "markdown",
   "metadata": {},
   "source": [
    "# Fitting a VotingClassifier"
   ]
  },
  {
   "cell_type": "code",
   "execution_count": 66,
   "metadata": {},
   "outputs": [
    {
     "name": "stdout",
     "output_type": "stream",
     "text": [
      "\n",
      "Validation Accuracy (Ensemble): 1.0000\n",
      "\n",
      "Classification Report (Ensemble):\n",
      "              precision    recall  f1-score   support\n",
      "\n",
      "           0       1.00      1.00      1.00       563\n",
      "           1       1.00      1.00      1.00       146\n",
      "           2       1.00      1.00      1.00        76\n",
      "           3       1.00      1.00      1.00         7\n",
      "\n",
      "    accuracy                           1.00       792\n",
      "   macro avg       1.00      1.00      1.00       792\n",
      "weighted avg       1.00      1.00      1.00       792\n",
      "\n"
     ]
    },
    {
     "data": {
      "image/png": "[encoded data removed]",
      "text/plain": [
       "<Figure size 640x480 with 2 Axes>"
      ]
     },
     "metadata": {},
     "output_type": "display_data"
    },
    {
     "name": "stdout",
     "output_type": "stream",
     "text": [
      "\n",
      "Best Ensemble model has been saved successfully.\n"
     ]
    }
   ],
   "source": [
    "# Fit the best models on the combined training and validation set\n",
    "X_full = pd.concat([X_train, X_val], axis=0)\n",
    "y_full = pd.concat([y_train, y_val], axis=0)\n",
    "\n",
    "# Refit the best models on the full dataset\n",
    "lgb_best_pipeline.fit(X_full, y_full)\n",
    "xgb_best_pipeline.fit(X_full, y_full)\n",
    "cat_best_pipeline.fit(X_full, y_full)\n",
    "\n",
    "# Extract the classifiers from the pipelines\n",
    "lgb_clf = lgb_best_pipeline.named_steps['classifier']\n",
    "xgb_clf = xgb_best_pipeline.named_steps['classifier']\n",
    "cat_clf = cat_best_pipeline.named_steps['classifier']\n",
    "\n",
    "# Create a VotingClassifier ensemble\n",
    "ensemble_pipeline = Pipeline(steps=[\n",
    "    ('preprocessor', preprocessor),\n",
    "    ('classifier', VotingClassifier(\n",
    "        estimators=[\n",
    "            ('lgb', lgb_clf),\n",
    "            ('xgb', xgb_clf),\n",
    "            ('cat', cat_clf)\n",
    "        ],\n",
    "        voting='soft',  # Use 'soft' voting to consider predicted probabilities\n",
    "        weights=[1, 1, 1],\n",
    "        n_jobs=-1\n",
    "    ))\n",
    "])\n",
    "\n",
    "# Fit the ensemble model on the full dataset\n",
    "ensemble_pipeline.fit(X_full, y_full)\n",
    "\n",
    "# Predict on the validation set\n",
    "y_val_pred = ensemble_pipeline.predict(X_val)\n",
    "\n",
    "# Calculate accuracy\n",
    "val_accuracy = accuracy_score(y_val, y_val_pred)\n",
    "print(f\"\\nValidation Accuracy (Ensemble): {val_accuracy:.4f}\")\n",
    "\n",
    "# Classification Report\n",
    "print(\"\\nClassification Report (Ensemble):\")\n",
    "print(classification_report(y_val, y_val_pred))\n",
    "\n",
    "# Confusion Matrix\n",
    "conf_mat = confusion_matrix(y_val, y_val_pred)\n",
    "disp = ConfusionMatrixDisplay(confusion_matrix=conf_mat)\n",
    "disp.plot()\n",
    "plt.title(\"Confusion Matrix (Ensemble)\")\n",
    "plt.show()\n",
    "\n",
    "# Save the ensemble model\n",
    "joblib.dump(ensemble_pipeline, 'best_ensemble_model.pkl')\n",
    "print(\"\\nBest Ensemble model has been saved successfully.\")"
   ]
  },
  {
   "cell_type": "code",
   "execution_count": null,
   "metadata": {},
   "outputs": [
    {
     "name": "stdout",
     "output_type": "stream",
     "text": [
      "\n",
      "Submission saved as 'ensemble_submission.csv'\n"
     ]
    }
   ],
   "source": [
    "# Ensure that the test data is preprocessed properly\n",
    "X_test_preprocessed = preprocessor.transform(X_test)\n",
    "\n",
    "# Predict using the ensemble model\n",
    "y_test_pred = ensemble_pipeline.named_steps['classifier'].predict(X_test_preprocessed)\n",
    "\n",
    "# Prepare submission\n",
    "submission = pd.DataFrame({\n",
    "    'id': test_df['id'],\n",
    "    'sii': y_test_pred\n",
    "})\n",
    "\n",
    "# Save submission\n",
    "#submission.to_csv('ensemble_submission.csv', index=False)\n",
    "print(\"\\nSubmission saved as 'ensemble_submission.csv'\")"
   ]
  }
 ],
 "metadata": {
  "kernelspec": {
   "display_name": "Python 3",
   "language": "python",
   "name": "python3"
  },
  "language_info": {
   "codemirror_mode": {
    "name": "ipython",
    "version": 3
   },
   "file_extension": ".py",
   "mimetype": "text/x-python",
   "name": "python",
   "nbconvert_exporter": "python",
   "pygments_lexer": "ipython3",
   "version": "3.12.6"
  }
 },
 "nbformat": 4,
 "nbformat_minor": 2
}
